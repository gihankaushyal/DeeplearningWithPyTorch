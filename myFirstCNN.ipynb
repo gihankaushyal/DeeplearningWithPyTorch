{
 "cells": [
  {
   "cell_type": "code",
   "execution_count": 1,
   "id": "2eb9e992-fda3-493c-bf72-30d8b9b2e9a2",
   "metadata": {},
   "outputs": [],
   "source": [
    "import torch\n",
    "import torch.nn as nn\n",
    "import torch.nn.functional as F\n",
    "from torch.utils.data import DataLoader\n",
    "from torchvision import datasets, transforms\n",
    "from torchvision.utils import make_grid\n",
    "\n",
    "import numpy as np\n",
    "import pandas as pd\n",
    "from sklearn.metrics import confusion_matrix\n",
    "import matplotlib.pyplot as plt\n",
    "%matplotlib inline"
   ]
  },
  {
   "cell_type": "code",
   "execution_count": 2,
   "id": "8fa1fffe-341f-410a-bdb4-c9ff4525c188",
   "metadata": {},
   "outputs": [],
   "source": [
    "# convert MNIST images into a tensor of 4-Dimensions (# of images, height, width, color)\n",
    "transform = transforms.ToTensor()"
   ]
  },
  {
   "cell_type": "code",
   "execution_count": 3,
   "id": "a7be6071-969d-4191-8549-94ae367251c9",
   "metadata": {},
   "outputs": [],
   "source": [
    "# Train data\n",
    "train_data = datasets.MNIST(root='cnn_data', \n",
    "                            train=True, \n",
    "                            download=True, \n",
    "                            transform=transform)"
   ]
  },
  {
   "cell_type": "code",
   "execution_count": 4,
   "id": "183aba6c-9bd1-4ffa-86c0-c90a0100e75f",
   "metadata": {},
   "outputs": [],
   "source": [
    "# Test data\n",
    "test_data = datasets.MNIST(root='cnn_data', \n",
    "                            train=False, \n",
    "                            download=True, \n",
    "                            transform=transform)"
   ]
  },
  {
   "cell_type": "code",
   "execution_count": 5,
   "id": "81ac8467-2534-4593-ad11-5c6082fb9cfa",
   "metadata": {},
   "outputs": [
    {
     "data": {
      "text/plain": [
       "Dataset MNIST\n",
       "    Number of datapoints: 60000\n",
       "    Root location: cnn_data\n",
       "    Split: Train\n",
       "    StandardTransform\n",
       "Transform: ToTensor()"
      ]
     },
     "execution_count": 5,
     "metadata": {},
     "output_type": "execute_result"
    }
   ],
   "source": [
    "train_data"
   ]
  },
  {
   "cell_type": "code",
   "execution_count": 6,
   "id": "5f91b766-ccef-48a8-9277-faf9e97cdac9",
   "metadata": {},
   "outputs": [
    {
     "data": {
      "text/plain": [
       "Dataset MNIST\n",
       "    Number of datapoints: 10000\n",
       "    Root location: cnn_data\n",
       "    Split: Test\n",
       "    StandardTransform\n",
       "Transform: ToTensor()"
      ]
     },
     "execution_count": 6,
     "metadata": {},
     "output_type": "execute_result"
    }
   ],
   "source": [
    "test_data"
   ]
  },
  {
   "cell_type": "code",
   "execution_count": 7,
   "id": "169080f4-2a26-479f-a1c0-48882ae5cab4",
   "metadata": {},
   "outputs": [],
   "source": [
    "# Create a small batch size for images : say 10\n",
    "train_loader = DataLoader(train_data, batch_size=10, shuffle=True)\n",
    "test_loader = DataLoader(test_data, batch_size=10, shuffle=False)"
   ]
  },
  {
   "cell_type": "code",
   "execution_count": 8,
   "id": "d17f6f7a-08aa-472d-8667-4a27b16b8434",
   "metadata": {},
   "outputs": [],
   "source": [
    "#Define CNN model\n",
    "#Describe convolutional layer and what's it's doing (2 convolutional layers)\n",
    "conv1 = nn.Conv2d(1,6,3,1)\n",
    "conv2 = nn.Conv2d(6,16,3,1) "
   ]
  },
  {
   "cell_type": "code",
   "execution_count": 9,
   "id": "517bb20d-bdc3-41f0-96c5-7daa9a0f6051",
   "metadata": {},
   "outputs": [],
   "source": [
    "# Grab 1 MNIST record\n",
    "for i , (X_train, y_train) in enumerate(train_data):\n",
    "    break"
   ]
  },
  {
   "cell_type": "code",
   "execution_count": 10,
   "id": "f08d7eea-040b-4d49-8c97-302feb8202ac",
   "metadata": {},
   "outputs": [
    {
     "data": {
      "text/plain": [
       "torch.Size([1, 28, 28])"
      ]
     },
     "execution_count": 10,
     "metadata": {},
     "output_type": "execute_result"
    }
   ],
   "source": [
    "X_train.shape"
   ]
  },
  {
   "cell_type": "code",
   "execution_count": 11,
   "id": "43790f34-016a-4423-be63-1f1e1c261cb9",
   "metadata": {},
   "outputs": [],
   "source": [
    "x = X_train.view(1,1,28,28)"
   ]
  },
  {
   "cell_type": "code",
   "execution_count": 12,
   "id": "32ce9d1c-3bc8-4804-b344-a41aee7851d3",
   "metadata": {},
   "outputs": [
    {
     "data": {
      "text/plain": [
       "torch.Size([1, 1, 28, 28])"
      ]
     },
     "execution_count": 12,
     "metadata": {},
     "output_type": "execute_result"
    }
   ],
   "source": [
    "x.shape"
   ]
  },
  {
   "cell_type": "code",
   "execution_count": 13,
   "id": "55d05a8d-e15e-4a3e-8fe3-0153d6aa4e2b",
   "metadata": {},
   "outputs": [],
   "source": [
    "x = F.relu(conv1(x))"
   ]
  },
  {
   "cell_type": "code",
   "execution_count": 14,
   "id": "480bb2f0-dece-425d-9202-9308d7d2b028",
   "metadata": {},
   "outputs": [
    {
     "data": {
      "text/plain": [
       "torch.Size([1, 6, 26, 26])"
      ]
     },
     "execution_count": 14,
     "metadata": {},
     "output_type": "execute_result"
    }
   ],
   "source": [
    "# 1 is the image number\n",
    "# 6 is the number of filters as \n",
    "# 26 x 26 is the image size without the padding\n",
    "x.shape"
   ]
  },
  {
   "cell_type": "code",
   "execution_count": 15,
   "id": "ea007b8e-c216-4288-a1b3-e57f108a4afc",
   "metadata": {},
   "outputs": [],
   "source": [
    "# pass thru a pooling layer\n",
    "# kernal of 2  and strid of 2\n",
    "x = F.max_pool2d(x,2,2)"
   ]
  },
  {
   "cell_type": "code",
   "execution_count": 16,
   "id": "3ce97a59-372f-445d-9907-85f8b741f263",
   "metadata": {},
   "outputs": [
    {
     "data": {
      "text/plain": [
       "torch.Size([1, 6, 13, 13])"
      ]
     },
     "execution_count": 16,
     "metadata": {},
     "output_type": "execute_result"
    }
   ],
   "source": [
    "x.shape # 26/2 = 13"
   ]
  },
  {
   "cell_type": "code",
   "execution_count": 17,
   "id": "507f7e44-dbb8-4169-acbb-8dd4abe88c7f",
   "metadata": {},
   "outputs": [],
   "source": [
    "# convolutional layer\n",
    "x = F.relu(conv2(x))"
   ]
  },
  {
   "cell_type": "code",
   "execution_count": 18,
   "id": "066a0000-69ea-47bd-91e0-2c351d6e02b8",
   "metadata": {},
   "outputs": [
    {
     "data": {
      "text/plain": [
       "torch.Size([1, 16, 11, 11])"
      ]
     },
     "execution_count": 18,
     "metadata": {},
     "output_type": "execute_result"
    }
   ],
   "source": [
    "x.shape # no padding was set so we are loosing 2 pix"
   ]
  },
  {
   "cell_type": "code",
   "execution_count": 19,
   "id": "ccc6fa5b-fa18-4f60-86d9-cc627fdf322f",
   "metadata": {},
   "outputs": [],
   "source": [
    "x = F.max_pool2d(x,2,2)"
   ]
  },
  {
   "cell_type": "code",
   "execution_count": 20,
   "id": "14dc1de0-80aa-419d-8a5f-52b5ac405179",
   "metadata": {},
   "outputs": [
    {
     "data": {
      "text/plain": [
       "torch.Size([1, 16, 5, 5])"
      ]
     },
     "execution_count": 20,
     "metadata": {},
     "output_type": "execute_result"
    }
   ],
   "source": [
    "x.shape # 11/2 = 5.5 but we have to round down coz we can't reinvent data.\n"
   ]
  },
  {
   "cell_type": "code",
   "execution_count": 21,
   "id": "27a3f90d-485c-4230-921d-a9f3c40a92b1",
   "metadata": {},
   "outputs": [],
   "source": [
    "# model class\n",
    "class ConvolutionalNetwork(nn.Module):\n",
    "    def __init__(self):\n",
    "        super().__init__()\n",
    "        self.conv1 = nn.Conv2d(1,6,3,1)\n",
    "        self.conv2 = nn.Conv2d(6,16,3,1)\n",
    "\n",
    "        #fully connected layers\n",
    "        self.fc1 = nn.Linear(16*5*5, 120)\n",
    "        self.fc2 = nn.Linear(120 , 85)\n",
    "        self.fc3 = nn.Linear(85, 10)\n",
    "\n",
    "\n",
    "    def forward(self, X):\n",
    "        # 1st pass\n",
    "        X = F.relu(self.conv1(X))\n",
    "        X = F.max_pool2d(X,2,2)\n",
    "        # 2nt pass\n",
    "        X = F.relu(self.conv2(X))\n",
    "        X = F.max_pool2d(X,2,2)\n",
    "\n",
    "        #Re-View to flatten it out\n",
    "        X = X.view(-1,16*5*5)\n",
    "\n",
    "        # Fully Connected layers\n",
    "        X = F.relu(self.fc1(X))\n",
    "        X = F.relu(self.fc2(X))\n",
    "        X = self.fc3(X)\n",
    "\n",
    "        return F.log_softmax(X,dim=1)"
   ]
  },
  {
   "cell_type": "code",
   "execution_count": 22,
   "id": "7a57ceb3-8a78-4776-bd22-d662f23f916c",
   "metadata": {},
   "outputs": [],
   "source": [
    "# Creating a manual seed\n",
    "torch.manual_seed(41)\n",
    "\n",
    "# Creat an Instance of the model\n",
    "model = ConvolutionalNetwork()"
   ]
  },
  {
   "cell_type": "code",
   "execution_count": 23,
   "id": "b4992dd1-85ae-4efd-85cd-1202198872e3",
   "metadata": {},
   "outputs": [
    {
     "data": {
      "text/plain": [
       "ConvolutionalNetwork(\n",
       "  (conv1): Conv2d(1, 6, kernel_size=(3, 3), stride=(1, 1))\n",
       "  (conv2): Conv2d(6, 16, kernel_size=(3, 3), stride=(1, 1))\n",
       "  (fc1): Linear(in_features=400, out_features=120, bias=True)\n",
       "  (fc2): Linear(in_features=120, out_features=85, bias=True)\n",
       "  (fc3): Linear(in_features=85, out_features=10, bias=True)\n",
       ")"
      ]
     },
     "execution_count": 23,
     "metadata": {},
     "output_type": "execute_result"
    }
   ],
   "source": [
    "model"
   ]
  },
  {
   "cell_type": "code",
   "execution_count": 24,
   "id": "a1860aa3-39f3-4ffd-a624-0639f8b6d1e2",
   "metadata": {},
   "outputs": [],
   "source": [
    "# Loss function optimizer and criterion \n",
    "criterion = nn.CrossEntropyLoss()\n",
    "optimizer = torch.optim.Adam(model.parameters(), lr=0.001) # smaller the lr more time it takes"
   ]
  },
  {
   "cell_type": "code",
   "execution_count": 25,
   "id": "901eace4-a348-4d63-b0b5-6773bfd68059",
   "metadata": {},
   "outputs": [
    {
     "name": "stdout",
     "output_type": "stream",
     "text": [
      "Epoch: 0 Batch: 600 Loss: 0.22181148827075958\n",
      "Epoch: 0 Batch: 1200 Loss: 0.037741731852293015\n",
      "Epoch: 0 Batch: 1800 Loss: 0.009244666434824467\n",
      "Epoch: 0 Batch: 2400 Loss: 0.01033247634768486\n",
      "Epoch: 0 Batch: 3000 Loss: 0.013654719106853008\n",
      "Epoch: 0 Batch: 3600 Loss: 0.2322227656841278\n",
      "Epoch: 0 Batch: 4200 Loss: 0.12155045568943024\n",
      "Epoch: 0 Batch: 4800 Loss: 0.026502709835767746\n",
      "Epoch: 0 Batch: 5400 Loss: 0.014064577408134937\n",
      "Epoch: 0 Batch: 6000 Loss: 0.1005055159330368\n",
      "Epoch: 1 Batch: 600 Loss: 0.002832434605807066\n",
      "Epoch: 1 Batch: 1200 Loss: 0.0016832707915455103\n",
      "Epoch: 1 Batch: 1800 Loss: 0.0036604113411158323\n",
      "Epoch: 1 Batch: 2400 Loss: 0.029183443635702133\n",
      "Epoch: 1 Batch: 3000 Loss: 0.0010616349754855037\n",
      "Epoch: 1 Batch: 3600 Loss: 0.034600287675857544\n",
      "Epoch: 1 Batch: 4200 Loss: 0.0008950062328949571\n",
      "Epoch: 1 Batch: 4800 Loss: 0.006129898130893707\n",
      "Epoch: 1 Batch: 5400 Loss: 0.0017226729542016983\n",
      "Epoch: 1 Batch: 6000 Loss: 0.003495133714750409\n",
      "Epoch: 2 Batch: 600 Loss: 0.003518324811011553\n",
      "Epoch: 2 Batch: 1200 Loss: 0.00018746068235486746\n",
      "Epoch: 2 Batch: 1800 Loss: 0.01010156236588955\n",
      "Epoch: 2 Batch: 2400 Loss: 0.027028124779462814\n",
      "Epoch: 2 Batch: 3000 Loss: 0.004914476536214352\n",
      "Epoch: 2 Batch: 3600 Loss: 0.0028799560386687517\n",
      "Epoch: 2 Batch: 4200 Loss: 0.005347519647330046\n",
      "Epoch: 2 Batch: 4800 Loss: 0.08590017259120941\n",
      "Epoch: 2 Batch: 5400 Loss: 0.009676284156739712\n",
      "Epoch: 2 Batch: 6000 Loss: 0.0005865957355126739\n",
      "Epoch: 3 Batch: 600 Loss: 0.00013759589637629688\n",
      "Epoch: 3 Batch: 1200 Loss: 0.27394139766693115\n",
      "Epoch: 3 Batch: 1800 Loss: 0.0003372523351572454\n",
      "Epoch: 3 Batch: 2400 Loss: 0.09836013615131378\n",
      "Epoch: 3 Batch: 3000 Loss: 0.0011927704326808453\n",
      "Epoch: 3 Batch: 3600 Loss: 0.06109517812728882\n",
      "Epoch: 3 Batch: 4200 Loss: 0.001023818040266633\n",
      "Epoch: 3 Batch: 4800 Loss: 0.00011449167504906654\n",
      "Epoch: 3 Batch: 5400 Loss: 0.012801282107830048\n",
      "Epoch: 3 Batch: 6000 Loss: 0.37025219202041626\n",
      "Epoch: 4 Batch: 600 Loss: 0.00170806678943336\n",
      "Epoch: 4 Batch: 1200 Loss: 0.03870438411831856\n",
      "Epoch: 4 Batch: 1800 Loss: 0.0007193352212198079\n",
      "Epoch: 4 Batch: 2400 Loss: 0.0010757024865597486\n",
      "Epoch: 4 Batch: 3000 Loss: 0.00010992799798259512\n",
      "Epoch: 4 Batch: 3600 Loss: 0.013721538707613945\n",
      "Epoch: 4 Batch: 4200 Loss: 0.20045462250709534\n",
      "Epoch: 4 Batch: 4800 Loss: 0.0015833619982004166\n",
      "Epoch: 4 Batch: 5400 Loss: 0.0012031139340251684\n",
      "Epoch: 4 Batch: 6000 Loss: 0.00012118688027840108\n",
      "Traing Took:1.587520166238149 minutes!\n"
     ]
    }
   ],
   "source": [
    "import time\n",
    "start_time = time.time()\n",
    "\n",
    "# Create variables to Track Things\n",
    "epochs = 5\n",
    "train_losses = []\n",
    "test_losses = []\n",
    "train_correct = []\n",
    "test_correct = []\n",
    "\n",
    "\n",
    "# For loop for Epochs\n",
    "for i in range(epochs):\n",
    "    trn_corr = 0\n",
    "    tst_corr = 0\n",
    "\n",
    "\n",
    "    # Train\n",
    "    for b,(X_train, y_train) in enumerate(train_loader):\n",
    "        b += 1 # the batch number\n",
    "        y_pred = model(X_train) # get predicted values from the training set. \n",
    "        loss = criterion(y_pred,y_train) # calculating the difference\n",
    "\n",
    "        predicted = torch.max(y_pred.data,1)[1] # add the correct predictions\n",
    "        batch_corr = (predicted == y_train).sum() #how many we got corrected from this batch\n",
    "        trn_corr += batch_corr # keep track as we go along\n",
    "        \n",
    "        #Update parameters\n",
    "        optimizer.zero_grad()\n",
    "        loss.backward()\n",
    "        optimizer.step()\n",
    "\n",
    "        #print results\n",
    "        if b%600 == 0:\n",
    "            print(f'Epoch: {i} Batch: {b} Loss: {loss.item()}')\n",
    "    \n",
    "    train_losses.append(loss)\n",
    "    train_correct.append(trn_corr)\n",
    "\n",
    "    # Test\n",
    "    with torch.no_grad(): # we don't want to update the network at this point\n",
    "        for b,(X_test,y_test) in enumerate(test_loader):\n",
    "            y_val = model(X_test)\n",
    "            predicted = torch.max(y_val.data,1)[1]\n",
    "            tst_corr += (predicted == y_test).sum() #T=1 F=0\n",
    "    \n",
    "    loss = criterion(y_val, y_test)\n",
    "    test_losses.append(loss)\n",
    "    test_correct.append(tst_corr)\n",
    "\n",
    "\n",
    "\n",
    "current_time = time.time()\n",
    "total = current_time - start_time\n",
    "print(f'Traing Took:{total/60} minutes!')"
   ]
  },
  {
   "cell_type": "code",
   "execution_count": 26,
   "id": "23036c91-94f5-4270-90a1-3add1cfc18ba",
   "metadata": {},
   "outputs": [
    {
     "data": {
      "text/plain": [
       "torch.Tensor"
      ]
     },
     "execution_count": 26,
     "metadata": {},
     "output_type": "execute_result"
    }
   ],
   "source": [
    "type(test_losses[0])"
   ]
  },
  {
   "cell_type": "code",
   "execution_count": 34,
   "id": "e00d757b-0bbf-4df4-a454-dfe4405e99d7",
   "metadata": {},
   "outputs": [
    {
     "data": {
      "text/plain": [
       "<matplotlib.legend.Legend at 0x155466922d40>"
      ]
     },
     "execution_count": 34,
     "metadata": {},
     "output_type": "execute_result"
    },
    {
     "data": {
      "image/png": "[encoded data removed]",
      "text/plain": [
       "<Figure size 640x480 with 1 Axes>"
      ]
     },
     "metadata": {},
     "output_type": "display_data"
    }
   ],
   "source": [
    "# let's plot loss at each epoch\n",
    "# train_losses = [tl.detach().numpy() for tl in train_losses]\n",
    "plt.plot(train_losses, label=\"Training Losses\")\n",
    "plt.plot(test_losses, label=\"Validation Losses\")\n",
    "plt.title(\"Loss at Epoch\")\n",
    "plt.legend()\n"
   ]
  },
  {
   "cell_type": "code",
   "execution_count": 39,
   "id": "ade540f7-c798-448d-8163-7b7f47322273",
   "metadata": {},
   "outputs": [
    {
     "data": {
      "text/plain": [
       "Text(0.5, 1.0, 'Accuracy at the end of each Epoch')"
      ]
     },
     "execution_count": 39,
     "metadata": {},
     "output_type": "execute_result"
    },
    {
     "data": {
      "image/png": "[encoded data removed]",
      "text/plain": [
       "<Figure size 640x480 with 1 Axes>"
      ]
     },
     "metadata": {},
     "output_type": "display_data"
    }
   ],
   "source": [
    "# graphing the accuracy \n",
    "plt.plot([t/600 for t in train_correct],label=\"Training Accuracy\")\n",
    "plt.plot([t/100 for t in test_correct], label=\"Validation Accuracy\")\n",
    "plt.legend()\n",
    "plt.title(\"Accuracy at the end of each Epoch\")"
   ]
  },
  {
   "cell_type": "code",
   "execution_count": 45,
   "id": "784c9632-9a6b-4d6b-86ec-65328e68fdef",
   "metadata": {},
   "outputs": [],
   "source": [
    "# Testing for all test data"
   ]
  },
  {
   "cell_type": "code",
   "execution_count": 40,
   "id": "26cba7d6-b8d2-4fe1-83ac-10f668bd63f7",
   "metadata": {},
   "outputs": [],
   "source": [
    "test_load_everything = DataLoader(test_data, batch_size=10000, shuffle=False)"
   ]
  },
  {
   "cell_type": "code",
   "execution_count": 42,
   "id": "9a6c29ae-81f6-4f26-8e39-e948fe606676",
   "metadata": {},
   "outputs": [],
   "source": [
    "with torch.no_grad():\n",
    "    correct = 0\n",
    "    for X_test, y_test, in test_load_everything:\n",
    "        y_val = model(X_test)\n",
    "        predicted = torch.max(y_val, 1)[1]\n",
    "        correct += (predicted == y_test).sum()"
   ]
  },
  {
   "cell_type": "code",
   "execution_count": 44,
   "id": "c4da7682-b9a1-4ba8-9d87-c8dab4e87c17",
   "metadata": {},
   "outputs": [
    {
     "data": {
      "text/plain": [
       "98.76"
      ]
     },
     "execution_count": 44,
     "metadata": {},
     "output_type": "execute_result"
    }
   ],
   "source": [
    "correct.item()/len(test_data)*100"
   ]
  },
  {
   "cell_type": "code",
   "execution_count": 46,
   "id": "af39197b-5e98-4070-b4cd-b4fd82eb06af",
   "metadata": {},
   "outputs": [
    {
     "data": {
      "text/plain": [
       "(tensor([[[0.0000, 0.0000, 0.0000, 0.0000, 0.0000, 0.0000, 0.0000, 0.0000,\n",
       "           0.0000, 0.0000, 0.0000, 0.0000, 0.0000, 0.0000, 0.0000, 0.0000,\n",
       "           0.0000, 0.0000, 0.0000, 0.0000, 0.0000, 0.0000, 0.0000, 0.0000,\n",
       "           0.0000, 0.0000, 0.0000, 0.0000],\n",
       "          [0.0000, 0.0000, 0.0000, 0.0000, 0.0000, 0.0000, 0.0000, 0.0000,\n",
       "           0.0000, 0.0000, 0.0000, 0.0000, 0.0000, 0.0000, 0.0000, 0.0000,\n",
       "           0.0000, 0.0000, 0.0000, 0.0000, 0.0000, 0.0000, 0.0000, 0.0000,\n",
       "           0.0000, 0.0000, 0.0000, 0.0000],\n",
       "          [0.0000, 0.0000, 0.0000, 0.0000, 0.0000, 0.0000, 0.0000, 0.0000,\n",
       "           0.0000, 0.0000, 0.0000, 0.0000, 0.0000, 0.0000, 0.0000, 0.0000,\n",
       "           0.0000, 0.0000, 0.0000, 0.0000, 0.0000, 0.0000, 0.0000, 0.0000,\n",
       "           0.0000, 0.0000, 0.0000, 0.0000],\n",
       "          [0.0000, 0.0000, 0.0000, 0.0000, 0.0000, 0.0000, 0.0000, 0.0000,\n",
       "           0.0000, 0.0000, 0.0000, 0.0000, 0.0000, 0.0000, 0.0000, 0.0000,\n",
       "           0.0000, 0.0000, 0.0000, 0.0000, 0.0000, 0.0000, 0.0000, 0.0000,\n",
       "           0.0000, 0.0000, 0.0000, 0.0000],\n",
       "          [0.0000, 0.0000, 0.0000, 0.0000, 0.0000, 0.0000, 0.0000, 0.0000,\n",
       "           0.0000, 0.0000, 0.0000, 0.0000, 0.0000, 0.0000, 0.0000, 0.1961,\n",
       "           0.5569, 0.9961, 1.0000, 0.8510, 0.1451, 0.0000, 0.0000, 0.0000,\n",
       "           0.0000, 0.0000, 0.0000, 0.0000],\n",
       "          [0.0000, 0.0000, 0.0000, 0.0000, 0.0000, 0.0000, 0.0000, 0.0000,\n",
       "           0.0000, 0.0000, 0.0000, 0.0000, 0.0000, 0.1686, 0.6039, 0.8863,\n",
       "           0.9922, 0.9922, 0.9922, 0.9490, 0.2941, 0.0000, 0.0000, 0.0000,\n",
       "           0.0000, 0.0000, 0.0000, 0.0000],\n",
       "          [0.0000, 0.0000, 0.0000, 0.0000, 0.0000, 0.0000, 0.0000, 0.0000,\n",
       "           0.0000, 0.0000, 0.0000, 0.0000, 0.3020, 0.9569, 0.9922, 0.9922,\n",
       "           0.9922, 0.9922, 0.9922, 0.8902, 0.2078, 0.0000, 0.0000, 0.0000,\n",
       "           0.0000, 0.0000, 0.0000, 0.0000],\n",
       "          [0.0000, 0.0000, 0.0000, 0.0000, 0.0000, 0.0000, 0.0000, 0.0000,\n",
       "           0.0000, 0.0000, 0.0000, 0.3412, 0.9804, 0.9922, 0.9922, 0.9922,\n",
       "           0.9922, 0.9922, 0.9922, 0.9922, 0.9569, 0.3647, 0.0667, 0.0000,\n",
       "           0.0000, 0.0000, 0.0000, 0.0000],\n",
       "          [0.0000, 0.0000, 0.0000, 0.0000, 0.0000, 0.0000, 0.0000, 0.0000,\n",
       "           0.0000, 0.0863, 0.3569, 0.9294, 0.9922, 0.9922, 0.9922, 0.9176,\n",
       "           0.8392, 0.9412, 0.9922, 0.9922, 0.9922, 0.9922, 0.2706, 0.0000,\n",
       "           0.0000, 0.0000, 0.0000, 0.0000],\n",
       "          [0.0000, 0.0000, 0.0000, 0.0000, 0.0000, 0.0000, 0.0000, 0.0000,\n",
       "           0.0863, 0.7882, 0.9922, 0.9922, 0.9922, 0.9922, 0.6078, 0.2314,\n",
       "           0.0000, 0.3020, 0.4510, 0.9137, 0.9922, 0.9922, 0.8980, 0.2157,\n",
       "           0.0000, 0.0000, 0.0000, 0.0000],\n",
       "          [0.0000, 0.0000, 0.0000, 0.0000, 0.0000, 0.0000, 0.0000, 0.3451,\n",
       "           0.9451, 0.9922, 0.9922, 0.7490, 0.3490, 0.0549, 0.0196, 0.0000,\n",
       "           0.0000, 0.0000, 0.0000, 0.1961, 0.8706, 0.9922, 0.9922, 0.3882,\n",
       "           0.0000, 0.0000, 0.0000, 0.0000],\n",
       "          [0.0000, 0.0000, 0.0000, 0.0000, 0.0000, 0.0000, 0.0706, 0.8078,\n",
       "           0.9922, 0.9922, 0.6745, 0.0745, 0.0000, 0.0000, 0.0000, 0.0000,\n",
       "           0.0000, 0.0000, 0.0000, 0.0000, 0.6353, 0.9922, 0.9922, 0.4627,\n",
       "           0.0000, 0.0000, 0.0000, 0.0000],\n",
       "          [0.0000, 0.0000, 0.0000, 0.0000, 0.0000, 0.0980, 0.7922, 0.9922,\n",
       "           0.9922, 0.7098, 0.0275, 0.0000, 0.0000, 0.0000, 0.0000, 0.0000,\n",
       "           0.0000, 0.0000, 0.0000, 0.0000, 0.6353, 0.9922, 0.9922, 0.9922,\n",
       "           0.0000, 0.0000, 0.0000, 0.0000],\n",
       "          [0.0000, 0.0000, 0.0000, 0.0000, 0.0000, 0.3686, 0.9922, 0.9922,\n",
       "           0.9451, 0.3137, 0.0000, 0.0000, 0.0000, 0.0000, 0.0000, 0.0000,\n",
       "           0.0000, 0.0000, 0.0000, 0.0000, 0.6353, 0.9922, 0.9922, 0.9922,\n",
       "           0.0000, 0.0000, 0.0000, 0.0000],\n",
       "          [0.0000, 0.0000, 0.0000, 0.0000, 0.0392, 0.8039, 0.9922, 0.9569,\n",
       "           0.3961, 0.0000, 0.0000, 0.0000, 0.0000, 0.0000, 0.0000, 0.0000,\n",
       "           0.0000, 0.0000, 0.0000, 0.0000, 0.6353, 0.9922, 0.9922, 0.9922,\n",
       "           0.0000, 0.0000, 0.0000, 0.0000],\n",
       "          [0.0000, 0.0000, 0.0000, 0.0000, 0.6863, 0.9922, 0.9922, 0.6275,\n",
       "           0.0000, 0.0000, 0.0000, 0.0000, 0.0000, 0.0000, 0.0000, 0.0000,\n",
       "           0.0000, 0.0000, 0.0000, 0.0000, 0.6353, 0.9922, 0.9922, 0.9922,\n",
       "           0.0000, 0.0000, 0.0000, 0.0000],\n",
       "          [0.0000, 0.0000, 0.0000, 0.0000, 0.9961, 0.9922, 0.9922, 0.6275,\n",
       "           0.0000, 0.0000, 0.0000, 0.0000, 0.0000, 0.0000, 0.0000, 0.0000,\n",
       "           0.0000, 0.0000, 0.0000, 0.0000, 0.6353, 0.9922, 0.9922, 0.4588,\n",
       "           0.0000, 0.0000, 0.0000, 0.0000],\n",
       "          [0.0000, 0.0000, 0.0000, 0.0000, 0.9961, 0.9922, 0.9922, 0.6275,\n",
       "           0.0000, 0.0000, 0.0000, 0.0000, 0.0000, 0.0000, 0.0000, 0.0000,\n",
       "           0.0000, 0.0000, 0.0000, 0.2000, 0.8745, 0.9922, 0.8510, 0.1294,\n",
       "           0.0000, 0.0000, 0.0000, 0.0000],\n",
       "          [0.0000, 0.0000, 0.0000, 0.0000, 1.0000, 0.9922, 0.9922, 0.6275,\n",
       "           0.0000, 0.0000, 0.0000, 0.0000, 0.0000, 0.0000, 0.0000, 0.0000,\n",
       "           0.0000, 0.0000, 0.2118, 0.9137, 0.9922, 0.9922, 0.5020, 0.0000,\n",
       "           0.0000, 0.0000, 0.0000, 0.0000],\n",
       "          [0.0000, 0.0000, 0.0000, 0.0000, 0.9961, 0.9922, 0.9922, 0.7176,\n",
       "           0.0588, 0.0000, 0.0000, 0.0000, 0.0000, 0.0000, 0.0000, 0.0000,\n",
       "           0.2157, 0.6471, 0.9137, 0.9922, 0.9922, 0.8902, 0.1333, 0.0000,\n",
       "           0.0000, 0.0000, 0.0000, 0.0000],\n",
       "          [0.0000, 0.0000, 0.0000, 0.0000, 0.5961, 0.9686, 0.9922, 0.9922,\n",
       "           0.7176, 0.3059, 0.0314, 0.0314, 0.0314, 0.2157, 0.6353, 0.6353,\n",
       "           0.9490, 0.9922, 0.9922, 0.9647, 0.5725, 0.2078, 0.0000, 0.0000,\n",
       "           0.0000, 0.0000, 0.0000, 0.0000],\n",
       "          [0.0000, 0.0000, 0.0000, 0.0000, 0.0000, 0.1843, 0.9922, 0.9922,\n",
       "           0.9922, 0.9922, 0.9922, 0.9922, 0.9922, 0.9922, 0.9922, 0.9922,\n",
       "           0.9922, 0.9922, 0.7961, 0.0863, 0.0000, 0.0000, 0.0000, 0.0000,\n",
       "           0.0000, 0.0000, 0.0000, 0.0000],\n",
       "          [0.0000, 0.0000, 0.0000, 0.0000, 0.0000, 0.0353, 0.1765, 0.8431,\n",
       "           0.9922, 0.9922, 0.9922, 0.9922, 0.9922, 0.9922, 0.9725, 0.7804,\n",
       "           0.6118, 0.1765, 0.0980, 0.0000, 0.0000, 0.0000, 0.0000, 0.0000,\n",
       "           0.0000, 0.0000, 0.0000, 0.0000],\n",
       "          [0.0000, 0.0000, 0.0000, 0.0000, 0.0000, 0.0000, 0.0000, 0.1451,\n",
       "           0.3882, 0.7176, 0.9922, 0.9922, 0.9922, 0.8078, 0.3529, 0.0000,\n",
       "           0.0000, 0.0000, 0.0000, 0.0000, 0.0000, 0.0000, 0.0000, 0.0000,\n",
       "           0.0000, 0.0000, 0.0000, 0.0000],\n",
       "          [0.0000, 0.0000, 0.0000, 0.0000, 0.0000, 0.0000, 0.0000, 0.0000,\n",
       "           0.0000, 0.0000, 0.0000, 0.0000, 0.0000, 0.0000, 0.0000, 0.0000,\n",
       "           0.0000, 0.0000, 0.0000, 0.0000, 0.0000, 0.0000, 0.0000, 0.0000,\n",
       "           0.0000, 0.0000, 0.0000, 0.0000],\n",
       "          [0.0000, 0.0000, 0.0000, 0.0000, 0.0000, 0.0000, 0.0000, 0.0000,\n",
       "           0.0000, 0.0000, 0.0000, 0.0000, 0.0000, 0.0000, 0.0000, 0.0000,\n",
       "           0.0000, 0.0000, 0.0000, 0.0000, 0.0000, 0.0000, 0.0000, 0.0000,\n",
       "           0.0000, 0.0000, 0.0000, 0.0000],\n",
       "          [0.0000, 0.0000, 0.0000, 0.0000, 0.0000, 0.0000, 0.0000, 0.0000,\n",
       "           0.0000, 0.0000, 0.0000, 0.0000, 0.0000, 0.0000, 0.0000, 0.0000,\n",
       "           0.0000, 0.0000, 0.0000, 0.0000, 0.0000, 0.0000, 0.0000, 0.0000,\n",
       "           0.0000, 0.0000, 0.0000, 0.0000],\n",
       "          [0.0000, 0.0000, 0.0000, 0.0000, 0.0000, 0.0000, 0.0000, 0.0000,\n",
       "           0.0000, 0.0000, 0.0000, 0.0000, 0.0000, 0.0000, 0.0000, 0.0000,\n",
       "           0.0000, 0.0000, 0.0000, 0.0000, 0.0000, 0.0000, 0.0000, 0.0000,\n",
       "           0.0000, 0.0000, 0.0000, 0.0000]]]),\n",
       " 0)"
      ]
     },
     "execution_count": 46,
     "metadata": {},
     "output_type": "execute_result"
    }
   ],
   "source": [
    "# Gram an image\n",
    "test_data[4150]"
   ]
  },
  {
   "cell_type": "code",
   "execution_count": 47,
   "id": "c33a409b-1cb8-4da8-9ea6-5f78c7b7abe9",
   "metadata": {},
   "outputs": [],
   "source": [
    "# grab just the data\n",
    "test_image = test_data[4150][0] "
   ]
  },
  {
   "cell_type": "code",
   "execution_count": 50,
   "id": "05955cf9-9e2a-4f20-9956-6d2ce8a1f321",
   "metadata": {},
   "outputs": [],
   "source": [
    "# reshpe it\n",
    "test_image = test_image.reshape(28,28)"
   ]
  },
  {
   "cell_type": "code",
   "execution_count": 51,
   "id": "dce92b33-c51c-4d0b-910f-feb09822eb46",
   "metadata": {},
   "outputs": [
    {
     "data": {
      "text/plain": [
       "<matplotlib.image.AxesImage at 0x155466b10340>"
      ]
     },
     "execution_count": 51,
     "metadata": {},
     "output_type": "execute_result"
    },
    {
     "data": {
      "image/png": "[encoded data removed]",
      "text/plain": [
       "<Figure size 640x480 with 1 Axes>"
      ]
     },
     "metadata": {},
     "output_type": "display_data"
    }
   ],
   "source": [
    "# Shoe the image\n",
    "plt.imshow(test_image)"
   ]
  },
  {
   "cell_type": "code",
   "execution_count": 53,
   "id": "01836e1b-afcf-4682-b2a3-f9d589cf4114",
   "metadata": {},
   "outputs": [],
   "source": [
    "# passing the image through the model\n",
    "with torch.no_grad():\n",
    "    newPred = model(test_image.view(1,1,28,28))"
   ]
  },
  {
   "cell_type": "code",
   "execution_count": null,
   "id": "f7c7fe65-1d09-4ca5-b671-e531c8f5acd3",
   "metadata": {},
   "outputs": [],
   "source": [
    "ne"
   ]
  }
 ],
 "metadata": {
  "kernelspec": {
   "display_name": "pyqt5",
   "language": "python",
   "name": "pyqt5"
  },
  "language_info": {
   "codemirror_mode": {
    "name": "ipython",
    "version": 3
   },
   "file_extension": ".py",
   "mimetype": "text/x-python",
   "name": "python",
   "nbconvert_exporter": "python",
   "pygments_lexer": "ipython3",
   "version": "3.10.9"
  }
 },
 "nbformat": 4,
 "nbformat_minor": 5
}
